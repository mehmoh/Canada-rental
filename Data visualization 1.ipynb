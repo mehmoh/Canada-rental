{
 "cells": [
  {
   "cell_type": "code",
   "execution_count": null,
   "metadata": {},
   "outputs": [],
   "source": []
  },
  {
   "cell_type": "code",
   "execution_count": 21,
   "metadata": {},
   "outputs": [],
   "source": [
    "from datetime import datetime\n",
    "import pandas as pd\n",
    "import folium\n",
    "import requests\n",
    "from google_api import get_lat_lon\n",
    "import numpy as np\n",
    "import seaborn as sns\n"
   ]
  },
  {
   "cell_type": "code",
   "execution_count": 2,
   "metadata": {},
   "outputs": [],
   "source": [
    "df = pd.read_csv('cleaned1.csv').drop(['Unnamed: 0'],axis=1)\n",
    "df=df.dropna()\n"
   ]
  },
  {
   "cell_type": "code",
   "execution_count": 12,
   "metadata": {},
   "outputs": [
    {
     "data": {
      "text/plain": [
       "price          int64\n",
       "Address       object\n",
       "bedroom        int64\n",
       "bathroom       int64\n",
       "size_sqf       int64\n",
       "types         object\n",
       "city          object\n",
       "province      object\n",
       "Latitude     float64\n",
       "Longitude    float64\n",
       "dtype: object"
      ]
     },
     "execution_count": 12,
     "metadata": {},
     "output_type": "execute_result"
    }
   ],
   "source": [
    "df.dtypes"
   ]
  },
  {
   "cell_type": "code",
   "execution_count": 15,
   "metadata": {},
   "outputs": [],
   "source": [
    "bedrooms = df['bedroom'].value_counts()\n",
    "bathrooms=df['bathroom'].value_counts()\n"
   ]
  },
  {
   "cell_type": "code",
   "execution_count": null,
   "metadata": {},
   "outputs": [],
   "source": []
  },
  {
   "cell_type": "code",
   "execution_count": null,
   "metadata": {},
   "outputs": [],
   "source": [
    "ax = bedrooms.plot(kind='bar',title=\"Number of houses by bedrooms\")\n",
    "ax.set_xlabel(\"Number of bedrooms\")\n",
    "ax.set_ylabel(\"Frequency\")\n",
    "for container in ax.containers:\n",
    "    plt.bar_label(container)\n"
   ]
  },
  {
   "cell_type": "code",
   "execution_count": 35,
   "metadata": {},
   "outputs": [
    {
     "data": {
      "image/png": "[encoded data removed]",
      "text/plain": [
       "<Figure size 432x288 with 1 Axes>"
      ]
     },
     "metadata": {
      "needs_background": "light"
     },
     "output_type": "display_data"
    }
   ],
   "source": [
    "ax = sns.countplot(x=df['bedroom'],\n",
    "                   order=df['bedroom'].value_counts(ascending=False).index);\n",
    "ax.set_xlabel(\"Number of bedrooms\")\n",
    "ax.set_ylabel(\"Frequency\")\n",
    "\n",
    "abs_values = df['bedroom'].value_counts(ascending=False).values\n",
    "\n",
    "for rect in ax.patches:\n",
    "    ax.text (rect.get_x() + rect.get_width()  / 2,rect.get_height()+ 0.75,rect.get_height(),horizontalalignment='center', fontsize = 11)\n",
    "\n"
   ]
  },
  {
   "cell_type": "code",
   "execution_count": 36,
   "metadata": {},
   "outputs": [
    {
     "data": {
      "text/plain": [
       "[<matplotlib.patches.Rectangle at 0x20b69455370>,\n",
       " <matplotlib.patches.Rectangle at 0x20b69455a00>,\n",
       " <matplotlib.patches.Rectangle at 0x20b69455be0>,\n",
       " <matplotlib.patches.Rectangle at 0x20b694552e0>,\n",
       " <matplotlib.patches.Rectangle at 0x20b6947fa90>,\n",
       " <matplotlib.patches.Rectangle at 0x20b6947fd60>,\n",
       " <matplotlib.patches.Rectangle at 0x20b6947f070>,\n",
       " <matplotlib.patches.Rectangle at 0x20b6949d2b0>,\n",
       " <matplotlib.patches.Rectangle at 0x20b6949d940>]"
      ]
     },
     "execution_count": 36,
     "metadata": {},
     "output_type": "execute_result"
    }
   ],
   "source": [
    "ax.patches"
   ]
  },
  {
   "cell_type": "code",
   "execution_count": null,
   "metadata": {},
   "outputs": [],
   "source": []
  }
 ],
 "metadata": {
  "kernelspec": {
   "display_name": "Python 3",
   "language": "python",
   "name": "python3"
  },
  "language_info": {
   "codemirror_mode": {
    "name": "ipython",
    "version": 3
   },
   "file_extension": ".py",
   "mimetype": "text/x-python",
   "name": "python",
   "nbconvert_exporter": "python",
   "pygments_lexer": "ipython3",
   "version": "3.8.3"
  }
 },
 "nbformat": 4,
 "nbformat_minor": 4
}
